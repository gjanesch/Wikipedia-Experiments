{
 "cells": [
  {
   "cell_type": "markdown",
   "metadata": {},
   "source": [
    "This is a quick example for isolating a specific page, using information from the index file that accompanies a Wikipedia dump.  We try to isolate the page for \"Microbial Fuel Cell\" using its row in the index file and the start of the next stream:\n",
    "\n",
    " - 4233879042:5452870:Microbial fuel cell\n",
    " - 4234008653:5453027:Wallingford (CT) (redirect page)"
   ]
  },
  {
   "cell_type": "code",
   "execution_count": 1,
   "metadata": {},
   "outputs": [],
   "source": [
    "import bz2\n",
    "\n",
    "from bs4 import BeautifulSoup"
   ]
  },
  {
   "cell_type": "code",
   "execution_count": 2,
   "metadata": {},
   "outputs": [],
   "source": [
    "DUMP_FILE = \"enwiki-20200901-pages-articles-multistream.xml.bz2\"\n",
    "START_BYTE = 4233879042\n",
    "END_BYTE = 4234008653\n",
    "\n",
    "# read and decompress a stream\n",
    "decomp = bz2.BZ2Decompressor()\n",
    "with open(DUMP_FILE, 'rb') as f:\n",
    "    f.seek(START_BYTE)\n",
    "    readback = f.read(END_BYTE - START_BYTE - 1)\n",
    "    page_xml = decomp.decompress(readback).decode()"
   ]
  },
  {
   "cell_type": "code",
   "execution_count": 3,
   "metadata": {},
   "outputs": [
    {
     "data": {
      "text/plain": [
       "\"  <page>\\n    <title>Stokell's smelt</title>\\n    <n\""
      ]
     },
     "execution_count": 3,
     "metadata": {},
     "output_type": "execute_result"
    }
   ],
   "source": [
    "page_xml[:50]  # see if it starts with a <page>"
   ]
  },
  {
   "cell_type": "code",
   "execution_count": 4,
   "metadata": {},
   "outputs": [
    {
     "data": {
      "text/plain": [
       "'4bs3rqxoeidnvw67</sha1>\\n    </revision>\\n  </page>\\n'"
      ]
     },
     "execution_count": 4,
     "metadata": {},
     "output_type": "execute_result"
    }
   ],
   "source": [
    "page_xml[-50:]  # see if it ends with a </page>"
   ]
  },
  {
   "cell_type": "code",
   "execution_count": 5,
   "metadata": {},
   "outputs": [
    {
     "data": {
      "text/plain": [
       "52"
      ]
     },
     "execution_count": 5,
     "metadata": {},
     "output_type": "execute_result"
    }
   ],
   "source": [
    "# make the xml into a BeautifulSoup object and then look for the desired page\n",
    "soup = BeautifulSoup(page_xml, \"lxml\")\n",
    "pages = soup.find_all(\"page\")\n",
    "page_titles = [p.find(\"title\").text for p in pages]\n",
    "page_titles.index(\"Microbial fuel cell\")"
   ]
  },
  {
   "cell_type": "code",
   "execution_count": 6,
   "metadata": {},
   "outputs": [
    {
     "data": {
      "text/plain": [
       "\"A '''microbial fuel cell''' ('''MFC''') is a bio-[[electrochemical]] system<ref>{{cite journal |doi=10.1016/j.desal.2018.01.002 |title=Performance of microbial desalination cell for salt removal and e\""
      ]
     },
     "execution_count": 6,
     "metadata": {},
     "output_type": "execute_result"
    }
   ],
   "source": [
    "microbial_fuel_cell_text = pages[52].find(\"text\").text\n",
    "microbial_fuel_cell_text[:200]"
   ]
  }
 ],
 "metadata": {
  "kernelspec": {
   "display_name": "Python 3",
   "language": "python",
   "name": "python3"
  },
  "language_info": {
   "codemirror_mode": {
    "name": "ipython",
    "version": 3
   },
   "file_extension": ".py",
   "mimetype": "text/x-python",
   "name": "python",
   "nbconvert_exporter": "python",
   "pygments_lexer": "ipython3",
   "version": "3.8.5"
  }
 },
 "nbformat": 4,
 "nbformat_minor": 4
}
