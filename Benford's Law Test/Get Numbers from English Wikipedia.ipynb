{
 "cells": [
  {
   "cell_type": "code",
   "execution_count": 1,
   "metadata": {},
   "outputs": [],
   "source": [
    "import bz2\n",
    "from collections import Counter\n",
    "import os\n",
    "import re\n",
    "\n",
    "from bs4 import BeautifulSoup\n",
    "import matplotlib.pyplot as plt\n",
    "import numpy as np\n",
    "import pandas as pd\n",
    "from tqdm import tqdm"
   ]
  },
  {
   "cell_type": "code",
   "execution_count": 6,
   "metadata": {},
   "outputs": [],
   "source": [
    "INDEX_FILE = \"enwiki-20200901-pages-articles-multistream-index.txt.bz2\"\n",
    "DUMP_FILE = \"enwiki-20200901-pages-articles-multistream.xml.bz2\""
   ]
  },
  {
   "cell_type": "markdown",
   "metadata": {},
   "source": [
    "## PART 1: READ IN THE STREAM FILE AND GET THE START BYTES"
   ]
  },
  {
   "cell_type": "code",
   "execution_count": 7,
   "metadata": {},
   "outputs": [],
   "source": [
    "with bz2.open(INDEX_FILE) as b:\n",
    "    index_file_text = b.read()\n",
    "index_file_text = index_file_text.decode()"
   ]
  },
  {
   "cell_type": "code",
   "execution_count": 8,
   "metadata": {},
   "outputs": [],
   "source": [
    "index_file_lines = index_file_text.split(\"\\n\")\n",
    "index_file_lines.pop(-1)\n",
    "n_lines = len(index_file_lines)\n",
    "new_stream_lines = [index_file_lines[l] for l in range(0, n_lines, 100)]"
   ]
  },
  {
   "cell_type": "code",
   "execution_count": 9,
   "metadata": {},
   "outputs": [
    {
     "data": {
      "text/plain": [
       "205611"
      ]
     },
     "execution_count": 9,
     "metadata": {},
     "output_type": "execute_result"
    }
   ],
   "source": [
    "## Gather starting bytes.  Include the end of the file as one of the bytes; we'll\n",
    "## handle that by iterating len(start_bytes) - 1 times when dealing with the file.\n",
    "start_bytes = [int(x.split(\":\")[0]) for x in new_stream_lines]\n",
    "file_size = os.path.getsize(DUMP_FILE)\n",
    "start_bytes.append(file_size + 1)\n",
    "len(start_bytes)"
   ]
  },
  {
   "cell_type": "markdown",
   "metadata": {},
   "source": [
    "## PART 2: SET UP REGEX CODE & FILTERS"
   ]
  },
  {
   "cell_type": "code",
   "execution_count": 10,
   "metadata": {},
   "outputs": [],
   "source": [
    "def get_page_text(page_element):\n",
    "    revision = page_element.find('revision')\n",
    "    return revision.find('text').text\n",
    "\n",
    "def get_page_name(page_element):\n",
    "    return page_element.find('title').text\n",
    "\n",
    "def is_redirect(page):\n",
    "    return page.find(\"redirect\") is not None"
   ]
  },
  {
   "cell_type": "code",
   "execution_count": 11,
   "metadata": {},
   "outputs": [],
   "source": [
    "def filter_bad_pages(page_list):\n",
    "    UNUSED_PAGE_PREFIXES = [\"User:\", \"Wikipedia:\", \"User talk:\", \"Talk:\", \"Wikipedia talk:\", \"Template:\",\n",
    "                            \"Help:\", \"MediaWiki:\", \"Help talk:\", \"MediaWiki talk:\", \"File:\", \"Category:\",\n",
    "                            \"Template talk:\", \"Category talk:\", \"WT:\", \"US:\", \"CAT:\", \"T:\", \"MOS:\",\n",
    "                            \"File talk:\", \"Module:\", \"H:\"]\n",
    "    \n",
    "    page_list = [p for p in page_list if not is_redirect(p)]\n",
    "    for prefix in UNUSED_PAGE_PREFIXES:\n",
    "        page_list = [p for p in page_list if not get_page_name(p).startswith(prefix)]\n",
    "    return page_list"
   ]
  },
  {
   "cell_type": "code",
   "execution_count": 13,
   "metadata": {},
   "outputs": [],
   "source": [
    "months = [\"January\", \"February\", \"March\",\"April\", \"May\", \"June\", \"July\", \"August\", \"September\", \"October\", \"November\", \"December\"]\n",
    "month_day_year_words = re.compile(f\"({'|'.join(months)})\" + \" ([0-9]{1,2})?(,)? [0-9]{4}\")\n",
    "day_month_year_words = re.compile(\"([0-9]{1,2}) \" + f\"({'|'.join(months)})\" + \"(,)? [0-9]{4}\")\n",
    "year_first_numbers = re.compile(\"[0-9]{4}[-/][0-9]{1,2}[-/][0-9]{1,2}\")\n",
    "year_last_numbers = re.compile(\"[0-9]{1,2}[-/][0-9]{1,2}[-/][0-9]{4}\")\n",
    "times = re.compile(\"([0-2]?[0-9]:[0-5][0-9])( AM| PM)?\")\n",
    "month_day_words = re.compile(f\"({'|'.join(months)})\" + \" [0-9]{1,2}\")\n",
    "day_month_words = re.compile(\"[0-9]{1,2} \" + f\"({'|'.join(months)})\")"
   ]
  },
  {
   "cell_type": "code",
   "execution_count": 14,
   "metadata": {},
   "outputs": [],
   "source": [
    "def remove_dates_and_times(page_text):\n",
    "    page_text = re.sub(month_day_year_words, \"\", page_text)\n",
    "    page_text = re.sub(day_month_year_words, \"\", page_text)\n",
    "    page_text = re.sub(month_day_words, \"\", page_text)\n",
    "    page_text = re.sub(day_month_words, \"\", page_text)\n",
    "    page_text = re.sub(year_first_numbers, \"\", page_text)\n",
    "    page_text = re.sub(year_last_numbers, \"\", page_text)\n",
    "    page_text = re.sub(times, \"\", page_text)\n",
    "    return page_text"
   ]
  },
  {
   "cell_type": "code",
   "execution_count": 15,
   "metadata": {},
   "outputs": [],
   "source": [
    "def remove_lone_years(page_text):\n",
    "    page_text = re.sub(\"[Ii]n [12][0-9]{3}\", \"\", page_text)\n",
    "    page_text = re.sub(\"[12][0-9]{3}(-| to )[12][0-9]{3}\", \"\", page_text)\n",
    "    page_text = re.sub(\"[Ff]rom [12][0-9]{3}\", \"\", page_text)\n",
    "    page_text = re.sub(\"\\([12][0-9]{3}\\)\", \"\", page_text)\n",
    "    return page_text"
   ]
  },
  {
   "cell_type": "code",
   "execution_count": null,
   "metadata": {},
   "outputs": [],
   "source": [
    "def remove_all_years(page_text):\n",
    "    page_text = re.sub(\"1[0-9]{3}\", \"\", page_text)\n",
    "    page_text = re.sub(\"20[0-9][0-9]\", \"\", page_text)"
   ]
  },
  {
   "cell_type": "code",
   "execution_count": 16,
   "metadata": {},
   "outputs": [],
   "source": [
    "def get_numbers_from_page(page_text):\n",
    "    numbers = re.findall(\"[0-9.,]{1,}\", page_text)\n",
    "    numbers = [n.lstrip(\"0.,\") for n in numbers if re.search(\"[1-9]\", n)]\n",
    "    return numbers"
   ]
  },
  {
   "cell_type": "code",
   "execution_count": 17,
   "metadata": {},
   "outputs": [],
   "source": [
    "def get_first_digits_from_page(page_text):\n",
    "    numbers = re.findall(\"[0-9.,]{1,}\", page_text)\n",
    "    numbers = [n.lstrip(\"0.,\")[0] for n in numbers if re.search(\"[1-9]\", n)]\n",
    "    return Counter(numbers)"
   ]
  },
  {
   "cell_type": "code",
   "execution_count": 18,
   "metadata": {},
   "outputs": [],
   "source": [
    "def remove_non_text(page_text):\n",
    "    page_text = re.sub(\"\\[\\[File:.*?\\]\\]\", \"\", page_text)\n",
    "    page_text = re.sub(\"\\[\\[Image:.*?\\]\\]\", \"\", page_text)\n",
    "    page_text = re.sub(\"{{.*?}}\", \"\", page_text)\n",
    "    return page_text"
   ]
  },
  {
   "cell_type": "markdown",
   "metadata": {},
   "source": [
    "## PART 3: EXTRACT A STREAM"
   ]
  },
  {
   "cell_type": "code",
   "execution_count": 45,
   "metadata": {},
   "outputs": [
    {
     "name": "stderr",
     "output_type": "stream",
     "text": [
      "100%|██████████| 205610/205610 [9:12:10<00:00,  6.21it/s]   \n"
     ]
    }
   ],
   "source": [
    "benford1 = Counter({str(i):0 for i in range(1,10)})\n",
    "benford2 = Counter({str(i):0 for i in range(1,10)})\n",
    "benford3 = Counter({str(i):0 for i in range(1,10)})\n",
    "benford_df = pd.DataFrame()\n",
    "\n",
    "stream_file = open(DUMP_FILE, \"rb\")\n",
    "\n",
    "for i in tqdm(range(len(start_bytes)-1)):\n",
    "    decomp = bz2.BZ2Decompressor()\n",
    "    stream_file.seek(start_bytes[i])\n",
    "    readback = stream_file.read(start_bytes[i+1] - start_bytes[i] - 1)\n",
    "    page_xml = decomp.decompress(readback).decode()\n",
    "    \n",
    "    soup = BeautifulSoup(page_xml)\n",
    "    page_list = filter_bad_pages(soup.find_all(\"page\"))\n",
    "    page_texts = [get_page_text(p) for p in page_list]\n",
    "    \n",
    "    for pt in page_texts:\n",
    "        try:\n",
    "            count1 = get_first_digits_from_page(pt)\n",
    "            \n",
    "            pt = remove_non_text(pt)\n",
    "            pt = remove_dates_and_times(pt)\n",
    "            \n",
    "            pt_no_lone_years = remove_lone_years(pt)\n",
    "            count2 = get_first_digits_from_page(pt_no_lone_years)\n",
    "            \n",
    "            pt = remove_all_years(pt)\n",
    "            count3 = get_first_digits_from_page(pt)\n",
    "            \n",
    "            benford1 = benford1 + count1\n",
    "            benford2 = benford2 + count2\n",
    "            benford3 = benford3 + count3\n",
    "        except:\n",
    "            pass\n",
    "    \n",
    "    if (i+1) % 100 == 0:\n",
    "        new_row = {}\n",
    "        for i, b in enumerate([benford1, benford2, benford3]):\n",
    "            for k in b.keys():\n",
    "                new_row[f\"{i}_{k}\"] = b[k]\n",
    "        benford_df = benford_df.append(new_row, ignore_index=True)\n",
    "        benford1 = Counter({str(i):0 for i in range(1,10)})\n",
    "        benford2 = Counter({str(i):0 for i in range(1,10)})\n",
    "        benford3 = Counter({str(i):0 for i in range(1,10)})\n",
    "    \n",
    "stream_file.close()"
   ]
  },
  {
   "cell_type": "code",
   "execution_count": 48,
   "metadata": {},
   "outputs": [],
   "source": [
    "## add final round\n",
    "new_row = {}\n",
    "for i, b in enumerate([benford1, benford2, benford3]):\n",
    "    for k in b.keys():\n",
    "        new_row[f\"{i}_{k}\"] = b[k]\n",
    "benford_df = benford_df.append(new_row, ignore_index=True)"
   ]
  },
  {
   "cell_type": "code",
   "execution_count": 6,
   "metadata": {},
   "outputs": [
    {
     "ename": "TypeError",
     "evalue": "to_csv() got an unexpected keyword argument 'index_col'",
     "output_type": "error",
     "traceback": [
      "\u001b[0;31m---------------------------------------------------------------------------\u001b[0m",
      "\u001b[0;31mTypeError\u001b[0m                                 Traceback (most recent call last)",
      "\u001b[0;32m<ipython-input-6-f287510a33a9>\u001b[0m in \u001b[0;36m<module>\u001b[0;34m\u001b[0m\n\u001b[0;32m----> 1\u001b[0;31m \u001b[0mbenford_df\u001b[0m\u001b[0;34m.\u001b[0m\u001b[0mto_csv\u001b[0m\u001b[0;34m(\u001b[0m\u001b[0;34m\"benford_counts.csv\"\u001b[0m\u001b[0;34m,\u001b[0m \u001b[0mindex_col\u001b[0m\u001b[0;34m=\u001b[0m\u001b[0;36m0\u001b[0m\u001b[0;34m)\u001b[0m\u001b[0;34m\u001b[0m\u001b[0;34m\u001b[0m\u001b[0m\n\u001b[0m",
      "\u001b[0;31mTypeError\u001b[0m: to_csv() got an unexpected keyword argument 'index_col'"
     ]
    }
   ],
   "source": [
    "benford_df.to_csv(\"benford_counts.csv\")"
   ]
  },
  {
   "cell_type": "markdown",
   "metadata": {},
   "source": [
    "### PROCESSING THE CSV"
   ]
  },
  {
   "cell_type": "code",
   "execution_count": 19,
   "metadata": {},
   "outputs": [],
   "source": [
    "benford_df = pd.read_csv(\"benford_counts.csv\", index_col=0)"
   ]
  },
  {
   "cell_type": "code",
   "execution_count": 20,
   "metadata": {},
   "outputs": [],
   "source": [
    "col_sums = benford_df.sum()\n",
    "\n",
    "case1_sums = col_sums[0:9].values\n",
    "case2_sums = col_sums[9:18].values\n",
    "case3_sums = col_sums[18:].values\n",
    "\n",
    "case1_percents = 100 * case1_sums/sum(case1_sums)\n",
    "case2_percents = 100 * case2_sums/sum(case2_sums)\n",
    "case3_percents = 100 * case3_sums/sum(case3_sums)"
   ]
  },
  {
   "cell_type": "code",
   "execution_count": 69,
   "metadata": {},
   "outputs": [
    {
     "name": "stdout",
     "output_type": "stream",
     "text": [
      "803350230.0\n",
      "405844709.0\n",
      "325389290.0\n"
     ]
    }
   ],
   "source": [
    "print(case1_sums.sum())\n",
    "print(case2_sums.sum())\n",
    "print(case3_sums.sum())"
   ]
  },
  {
   "cell_type": "code",
   "execution_count": 65,
   "metadata": {},
   "outputs": [],
   "source": [
    "x = np.arange(1,10)\n",
    "benford_theoretical = 100*np.log10(1 + 1/x)"
   ]
  },
  {
   "cell_type": "code",
   "execution_count": 67,
   "metadata": {},
   "outputs": [
    {
     "data": {
      "text/html": [
       "<div>\n",
       "<style scoped>\n",
       "    .dataframe tbody tr th:only-of-type {\n",
       "        vertical-align: middle;\n",
       "    }\n",
       "\n",
       "    .dataframe tbody tr th {\n",
       "        vertical-align: top;\n",
       "    }\n",
       "\n",
       "    .dataframe thead th {\n",
       "        text-align: right;\n",
       "    }\n",
       "</style>\n",
       "<table border=\"1\" class=\"dataframe\">\n",
       "  <thead>\n",
       "    <tr style=\"text-align: right;\">\n",
       "      <th></th>\n",
       "      <th>Theoretical</th>\n",
       "      <th>AllNumbers</th>\n",
       "      <th>ReasonableCheck</th>\n",
       "      <th>AllPossibleYears</th>\n",
       "    </tr>\n",
       "  </thead>\n",
       "  <tbody>\n",
       "    <tr>\n",
       "      <th>0</th>\n",
       "      <td>30.103000</td>\n",
       "      <td>34.192143</td>\n",
       "      <td>36.058390</td>\n",
       "      <td>29.482770</td>\n",
       "    </tr>\n",
       "    <tr>\n",
       "      <th>1</th>\n",
       "      <td>17.609126</td>\n",
       "      <td>32.973080</td>\n",
       "      <td>26.196379</td>\n",
       "      <td>21.848295</td>\n",
       "    </tr>\n",
       "    <tr>\n",
       "      <th>2</th>\n",
       "      <td>12.493874</td>\n",
       "      <td>8.167111</td>\n",
       "      <td>9.430543</td>\n",
       "      <td>12.035884</td>\n",
       "    </tr>\n",
       "    <tr>\n",
       "      <th>3</th>\n",
       "      <td>9.691001</td>\n",
       "      <td>5.677718</td>\n",
       "      <td>6.764181</td>\n",
       "      <td>8.699148</td>\n",
       "    </tr>\n",
       "    <tr>\n",
       "      <th>4</th>\n",
       "      <td>7.918125</td>\n",
       "      <td>4.650655</td>\n",
       "      <td>5.271394</td>\n",
       "      <td>6.833022</td>\n",
       "    </tr>\n",
       "    <tr>\n",
       "      <th>5</th>\n",
       "      <td>6.694679</td>\n",
       "      <td>3.979152</td>\n",
       "      <td>4.864455</td>\n",
       "      <td>6.267823</td>\n",
       "    </tr>\n",
       "    <tr>\n",
       "      <th>6</th>\n",
       "      <td>5.799195</td>\n",
       "      <td>3.413108</td>\n",
       "      <td>3.900330</td>\n",
       "      <td>5.060124</td>\n",
       "    </tr>\n",
       "    <tr>\n",
       "      <th>7</th>\n",
       "      <td>5.115252</td>\n",
       "      <td>3.461403</td>\n",
       "      <td>3.739848</td>\n",
       "      <td>4.861015</td>\n",
       "    </tr>\n",
       "    <tr>\n",
       "      <th>8</th>\n",
       "      <td>4.575749</td>\n",
       "      <td>3.485631</td>\n",
       "      <td>3.774479</td>\n",
       "      <td>4.911918</td>\n",
       "    </tr>\n",
       "  </tbody>\n",
       "</table>\n",
       "</div>"
      ],
      "text/plain": [
       "   Theoretical  AllNumbers  ReasonableCheck  AllPossibleYears\n",
       "0    30.103000   34.192143        36.058390         29.482770\n",
       "1    17.609126   32.973080        26.196379         21.848295\n",
       "2    12.493874    8.167111         9.430543         12.035884\n",
       "3     9.691001    5.677718         6.764181          8.699148\n",
       "4     7.918125    4.650655         5.271394          6.833022\n",
       "5     6.694679    3.979152         4.864455          6.267823\n",
       "6     5.799195    3.413108         3.900330          5.060124\n",
       "7     5.115252    3.461403         3.739848          4.861015\n",
       "8     4.575749    3.485631         3.774479          4.911918"
      ]
     },
     "execution_count": 67,
     "metadata": {},
     "output_type": "execute_result"
    }
   ],
   "source": [
    "pd.DataFrame({\"Theoretical\":benford_theoretical,\n",
    "              \"AllNumbers\":case1_percents,\n",
    "              \"ReasonableCheck\":case2_percents,\n",
    "              \"AllPossibleYears\":case3_percents})"
   ]
  },
  {
   "cell_type": "code",
   "execution_count": 58,
   "metadata": {},
   "outputs": [
    {
     "data": {
      "image/png": "[encoded data removed]",
      "text/plain": [
       "<Figure size 576x432 with 1 Axes>"
      ]
     },
     "metadata": {
      "needs_background": "light"
     },
     "output_type": "display_data"
    }
   ],
   "source": [
    "plt.bar(x, case1_percents)\n",
    "plt.plot(x, benford_theoretical, color=\"black\", marker=\"o\")\n",
    "plt.xlabel(\"Digit\")\n",
    "plt.xticks(x)\n",
    "plt.ylabel(\"Probability (%)\")\n",
    "fig = plt.gcf()\n",
    "fig.set_size_inches(8, 6)\n",
    "fig.savefig('case1.png')"
   ]
  },
  {
   "cell_type": "code",
   "execution_count": 59,
   "metadata": {},
   "outputs": [
    {
     "data": {
      "image/png": "[encoded data removed]",
      "text/plain": [
       "<Figure size 576x432 with 1 Axes>"
      ]
     },
     "metadata": {
      "needs_background": "light"
     },
     "output_type": "display_data"
    }
   ],
   "source": [
    "plt.bar(x, case2_percents)\n",
    "plt.plot(x, benford_theoretical, color=\"black\", marker=\"o\")\n",
    "plt.xlabel(\"Digit\")\n",
    "plt.xticks(x)\n",
    "plt.ylabel(\"Probability (%)\")\n",
    "fig = plt.gcf()\n",
    "fig.set_size_inches(8, 6)\n",
    "fig.savefig('case2.png')"
   ]
  },
  {
   "cell_type": "code",
   "execution_count": 60,
   "metadata": {},
   "outputs": [
    {
     "data": {
      "image/png": "[encoded data removed]",
      "text/plain": [
       "<Figure size 576x432 with 1 Axes>"
      ]
     },
     "metadata": {
      "needs_background": "light"
     },
     "output_type": "display_data"
    }
   ],
   "source": [
    "plt.bar(x, case3_percents)\n",
    "plt.plot(x, benford_theoretical, color=\"black\", marker=\"o\")\n",
    "plt.xlabel(\"Digit\")\n",
    "plt.xticks(x)\n",
    "plt.ylabel(\"Probability (%)\")\n",
    "fig = plt.gcf()\n",
    "fig.set_size_inches(8, 6)\n",
    "fig.savefig('case3.png')"
   ]
  }
 ],
 "metadata": {
  "kernelspec": {
   "display_name": "Python 3",
   "language": "python",
   "name": "python3"
  },
  "language_info": {
   "codemirror_mode": {
    "name": "ipython",
    "version": 3
   },
   "file_extension": ".py",
   "mimetype": "text/x-python",
   "name": "python",
   "nbconvert_exporter": "python",
   "pygments_lexer": "ipython3",
   "version": "3.8.5"
  }
 },
 "nbformat": 4,
 "nbformat_minor": 4
}
